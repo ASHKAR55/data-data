{
 "cells": [
  {
   "cell_type": "code",
   "execution_count": 3,
   "id": "9d67230c-bb33-4f6c-ae83-1de4bb08c26b",
   "metadata": {},
   "outputs": [
    {
     "name": "stdout",
     "output_type": "stream",
     "text": [
      "ashkar\n"
     ]
    }
   ],
   "source": [
    "print(\"ashkar\")"
   ]
  },
  {
   "cell_type": "code",
   "execution_count": 5,
   "id": "32268eed-3b16-41ed-bd6a-d8e11a4117dc",
   "metadata": {},
   "outputs": [
    {
     "data": {
      "text/plain": [
       "90"
      ]
     },
     "execution_count": 5,
     "metadata": {},
     "output_type": "execute_result"
    }
   ],
   "source": [
    "45+45"
   ]
  },
  {
   "cell_type": "code",
   "execution_count": 7,
   "id": "a1cd60c0-d3b7-4b53-8402-3a9b1d3c626c",
   "metadata": {},
   "outputs": [
    {
     "name": "stdout",
     "output_type": "stream",
     "text": [
      "alnoor\n"
     ]
    }
   ],
   "source": [
    "print(\"alnoor\")"
   ]
  },
  {
   "cell_type": "code",
   "execution_count": null,
   "id": "3c08a512-f58e-436d-b274-c572de028151",
   "metadata": {},
   "outputs": [],
   "source": []
  }
 ],
 "metadata": {
  "kernelspec": {
   "display_name": "Python 3 (ipykernel)",
   "language": "python",
   "name": "python3"
  },
  "language_info": {
   "codemirror_mode": {
    "name": "ipython",
    "version": 3
   },
   "file_extension": ".py",
   "mimetype": "text/x-python",
   "name": "python",
   "nbconvert_exporter": "python",
   "pygments_lexer": "ipython3",
   "version": "3.12.4"
  }
 },
 "nbformat": 4,
 "nbformat_minor": 5
}
